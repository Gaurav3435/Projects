{
 "cells": [
  {
   "cell_type": "markdown",
   "id": "straight-education",
   "metadata": {},
   "source": [
    "Before you turn this problem in, make sure everything runs as expected. First, **restart the kernel** (in the menubar, select Kernel$\\rightarrow$Restart) and then **run all cells** (in the menubar, select Cell$\\rightarrow$Run All).\n",
    "\n",
    "Make sure you fill in any place that says `YOUR CODE HERE` or \"YOUR ANSWER HERE\", as well as your name and collaborators below:"
   ]
  },
  {
   "cell_type": "code",
   "execution_count": 1,
   "id": "soviet-administrator",
   "metadata": {},
   "outputs": [],
   "source": [
    "NAME = \"\"\n",
    "COLLABORATORS = \"\""
   ]
  },
  {
   "cell_type": "markdown",
   "id": "sound-wisdom",
   "metadata": {},
   "source": [
    "---"
   ]
  },
  {
   "cell_type": "markdown",
   "id": "advisory-warehouse",
   "metadata": {
    "deletable": false,
    "editable": false,
    "nbgrader": {
     "cell_type": "markdown",
     "checksum": "3573cf6689fb1dabc49427e3447ab9ac",
     "grade": false,
     "grade_id": "intro",
     "locked": true,
     "schema_version": 3,
     "solution": false,
     "task": false
    }
   },
   "source": [
    "# Assignment 3\n",
    "\n",
    "This notebook contains a set of exercises that will guide you through the different steps of this assignment. The aim of this assignment is to perform the different steps require for Data preparation using a real dataset. The assignment consists of 9 exercises, plus a bonus exercise that will grant you up to 1 extra point.\n",
    "\n",
    "<div class=\"alert alert-danger\"><b>Submission deadline:</b> Thursday, April 29th, 20:00</div>\n",
    "\n",
    "### Instructions\n",
    "\n",
    "Read carefully the following instructions before starting the exercises. \n",
    "\n",
    "- This notebook is automatically graded. This means that there are several cells embedded into the notebook that take care of checking your code and grading it. It also means that it is important **to follow the instructions for each of the exercises** to make sure that you do everything right.\n",
    "\n",
    "- There exist many different solutions to every exercise. We will accept different solutions as long as they are based on Python code. \n",
    "\n",
    "- Write your code in the dedicated cells. You can use as many cells as you like. Just make sure to include all the necessary code **before the corresponding test**. Remember that it is often a good idea to split your ocde through different cells to avoid errors.\n",
    "\n",
    "- Tests look for specific variables and objects. This means that in order to receive the points for each exercise, you need to **create those objects**. Also, be careful **not to modify the given function names** or those of their attributes.\n",
    "\n",
    "- We have created some additional test cells that will help you check that you got the basics right and that you defined all the variable and function names correctly. You can run these checks as many times as you want, **as long as you don't modify them**.  \n",
    "\n",
    "- The grading tests will remain hidden. It is important that you **do not write any code, nor do you remove the cells left in blank** for this purpose. \n",
    "\n",
    "- Using the **input()** function in your code will result in an error when grading your code. You can use this function to try our your code, but remember to remove any call to it before submission.\n",
    "\n",
    "- When possible, example results will be provided for every exercise. These examples are provided only as guidance. You can use them at your convenience or simply ignore them. We advise that you **come up with additional examples on your own** to ensure your code works properly.\n",
    "\n",
    "- Late submissions or submissions in a wrong format **will not be accepted**. The only valid format is '.ipynb', not '.py', '.docx' or '.pdf'"
   ]
  },
  {
   "cell_type": "markdown",
   "id": "micro-leeds",
   "metadata": {
    "deletable": false,
    "editable": false,
    "nbgrader": {
     "cell_type": "markdown",
     "checksum": "2134954d84bb1255e485e9d37c5c27b6",
     "grade": false,
     "grade_id": "context",
     "locked": true,
     "schema_version": 3,
     "solution": false,
     "task": false
    }
   },
   "source": [
    "### Context\n",
    "\n",
    "The Asian wasp (Vespa Velutina) is a species native to Southeast Asia that, it seems, began its European journey through France in 2005. The first nest arrived by boat from China and, since then, it has spread across Europe.\n",
    "These little insects love the Atlantic climate and enjoy nesting in rural and urban environments throughout Northern Spain. They choose, especially, the vegetation of our oak groves and acacia forests to build their nests and barracks.\n",
    "However, these wasps pose a significant threat to our environment. To feed their larvae, they capture bees and other species of insects, causing serious imbalances in ecosystems. Likewise, they also cause serious damage to fruit trees and the hives of honey-producing bees, generating a negative impact on rural areas.\n",
    "\n",
    "In [Kopuru](https://kopuru.com/desafio/vespa-velutina/), an online platform that launches open data challenges, they have echoed this problem and want to show that Data Science can help to minimize the impact of these small predators. That is why they have launched a new challenge: the “vespa velutina data challenge”. To participate, you will have to register on Kopuru and show that you are capable of developing a model that accurately predicts the number of nests of this wasp for each municipality in the Territory of Biscay for the year 2020. Better planning will undoubtedly help to better manage this invasive species and reduce its impact.\n",
    "\n",
    "<img src=\"https://kopuru.com/wp-content/uploads/2021/02/reto-kopuru.jpg\" style=\"width: 400px;\"/>\n",
    "\n",
    "Throughout the next two assignments, we will guide you through the initial steps of data preparation and model training. It will then be up to you to decide whether you want to go on with the challenge and send in your solutions to opt for the prize. Those students that submit a solution to the challenge will receive extra credit based on the value of their submissions. \n",
    "\n",
    "**We recommend to do not use the scikit-learn library for this third assignment. All exercises can be solved using Pandas.**"
   ]
  },
  {
   "cell_type": "markdown",
   "id": "seven-doubt",
   "metadata": {
    "deletable": false,
    "editable": false,
    "nbgrader": {
     "cell_type": "markdown",
     "checksum": "7d7a3d1df60820339b24efca9c1efbcb",
     "grade": false,
     "grade_id": "context-bis",
     "locked": true,
     "schema_version": 3,
     "solution": false,
     "task": false
    }
   },
   "source": [
    "### Task\n",
    "\n",
    "In order to train a model, you will presumably need to merge data from the different sources provided to try and include as much information as possible. In this first assignment we will begin by taking a look at the data about the location of Asian hornet nests in Bizkaia. These data are published by the Regional Council of Bizkaia on yearly basis. You can find the latest release at the following [link](https://www.opendatabizkaia.eus/en/catalogue/asian-hornet/resource/asian-hornet-nest-data).\n",
    "\n",
    "### Acquiring the data\n",
    "\n",
    "The first step of the machine learning pipeline is to acquire the data. Here, we are going to read the data directly from its source location to avoid having to download it. For this purpose, go to the provided link, right click on *Download csv* and select *Copy Link adress*. You can then provide this link in string form as an argument to the ```read_csv``` function. **Not download** the data and upload it to Google Colab.\n",
    "\n",
    "<div class=\"alert alert-info\"><b>Exercise </b> Write the code to read the data from their source location and store them in a Pandas DataFrame called <b>data</b>.\n",
    "</div>\n",
    "\n",
    "<div class=\"alert alert-warning\"> The full list of columns that should be included in your dataframe can be found in the provided link. They are the following: ALTA_DATA/FECHA ALTA, ALTUERA/ALTURA, DIAMETROA/DIAMETRO, EGOERA_CAS/ESTADO_CAS,EGOERA_EU/ESTADO_EU, ERABILTZAILEA_CAS/USUARIO_CAS,ERABILTZAILEA_EU/USUARIO_EU, ESPEZIE/ESPECIE, HELBIDEA/DIRECCION, ITXIERAKO AGENTEA_CAS/AGENTE CIERRE_CAS, ITXIERAKO AGENTEA_EU/AGENTE CIERRE_EU, ITXIERA_DATA/FECHA CIERRE, JARDUERA_ZENBAKIA/NUM_ACTUACION, KOKALEKUA/UBICACION, UDALERRIA/MUNICIPIO, URTEA/ANIO, _id, latitude and longitude.</div>"
   ]
  },
  {
   "cell_type": "code",
   "execution_count": 2,
   "id": "major-arizona",
   "metadata": {
    "deletable": false,
    "nbgrader": {
     "cell_type": "code",
     "checksum": "700095dfcbdea95b94a547fe5e94a35a",
     "grade": false,
     "grade_id": "ex0",
     "locked": false,
     "schema_version": 3,
     "solution": true,
     "task": false
    }
   },
   "outputs": [],
   "source": [
    "# YOUR CODE HERE\n",
    "import pandas as pd\n",
    "data=pd.read_csv(\"https://www.opendatabizkaia.eus/en/dump/d3aa5662-95a9-4f08-b254-b44a230014db/asian-hornet-nest-data?format=csv\")\n"
   ]
  },
  {
   "cell_type": "markdown",
   "id": "worst-option",
   "metadata": {
    "deletable": false,
    "editable": false,
    "nbgrader": {
     "cell_type": "markdown",
     "checksum": "0d311f42a6f1d027f7bf731006368b73",
     "grade": false,
     "grade_id": "cell-f9b6f2e270405d9b",
     "locked": true,
     "schema_version": 3,
     "solution": false,
     "task": false
    }
   },
   "source": [
    "Because we are going to use this dataframe throughout the assignment, let's make sure you created it correctly. For that reason, the following tests have been left open for you to run. Do not worry about the code itself. Simply run the cells below. If you get no error, it means you did alright. Otherwise, go back to your code and try to locate your mistakes.\n",
    "\n",
    "Don't move on to the next exercises until you make sure the code to create the dataframe is correct."
   ]
  },
  {
   "cell_type": "code",
   "execution_count": 3,
   "id": "romantic-highland",
   "metadata": {
    "deletable": false,
    "editable": false,
    "nbgrader": {
     "cell_type": "code",
     "checksum": "50151d7c244cc71ed62ef60a70863d00",
     "grade": false,
     "grade_id": "ex0-1",
     "locked": true,
     "schema_version": 3,
     "solution": false,
     "task": false
    }
   },
   "outputs": [],
   "source": [
    "import unittest\n",
    "import pandas as pd\n",
    "\n",
    "tc = unittest.TestCase()\n",
    "\n",
    "tc.assertTrue('data' in locals())\n",
    "tc.assertIsInstance(data, pd.DataFrame)\n",
    "tc.assertEqual(set(data.columns), {'ALTA_DATA/FECHA ALTA',\n",
    "                                     'ALTUERA/ALTURA',\n",
    "                                     'DIAMETROA/DIAMETRO',\n",
    "                                     'EGOERA_CAS/ESTADO_CAS',\n",
    "                                     'EGOERA_EU/ESTADO_EU',\n",
    "                                     'ERABILTZAILEA_CAS/USUARIO_CAS',\n",
    "                                     'ERABILTZAILEA_EU/USUARIO_EU',\n",
    "                                     'ESPEZIE/ESPECIE',\n",
    "                                     'HELBIDEA/DIRECCION',\n",
    "                                     'ITXIERAKO AGENTEA_CAS/AGENTE CIERRE_CAS',\n",
    "                                     'ITXIERAKO AGENTEA_EU/AGENTE CIERRE_EU',\n",
    "                                     'ITXIERA_DATA/FECHA CIERRE',\n",
    "                                     'JARDUERA_ZENBAKIA/NUM_ACTUACION',\n",
    "                                     'KOKALEKUA/UBICACION',\n",
    "                                     'UDALERRIA/MUNICIPIO',\n",
    "                                     'URTEA/ANIO',\n",
    "                                     '_id',\n",
    "                                     'latitude',\n",
    "                                     'longitude'})\n",
    "tc.assertEqual(len(data.columns), 19)"
   ]
  },
  {
   "cell_type": "markdown",
   "id": "civil-nature",
   "metadata": {
    "deletable": false,
    "editable": false,
    "nbgrader": {
     "cell_type": "markdown",
     "checksum": "445859c4a58403d867afdfc547d5bcff",
     "grade": false,
     "grade_id": "cell-d0a4738d3b41f798",
     "locked": true,
     "schema_version": 3,
     "solution": false,
     "task": false
    }
   },
   "source": [
    "### Dropping redundant columns\n",
    "\n",
    "The *_id* column provides the row identifier for every entry in the dataframe. Since this value is already given by the row index we are going to remove this column from our dataframe. In addition, the variable *JARDUERA_ZENBAKIA/NUM_ACTUACION* provides the case number for each nest. This is a unique identifier for each nest that is not useful for prediction. We will remove it too. Besides, there are also certain columns that appear duplicated. See for example the columns *EGOERA_EU/ESTADO_EU* and *EGOERA_CAS/ESTADO_CAS*, which contain the same information in different languages. To avoid repetition, we are also going to remove the duplicated columns from our dataframe.\n",
    "\n",
    "<div class=\"alert alert-info\"><b>Exercise 1 </b> Write the code to remove columns <b>_id</b>, <b>JARDUERA_ZENBAKIA/NUM_ACTUACION</b>, <b>ERABILTZAILEA_EU/USUARIO_EU</b>,  <b>EGOERA_EU/ESTADO_EU</b> and <b>ITXIERAKO AGENTEA_EU/AGENTE CIERRE_EU</b> from your DataFrame.\n",
    "</div>\n",
    "\n",
    "<div class='alert alert-warning'>Make sure that you remove the columns completely and that you don't modify the name of your dataframe, which should still be <b>data</b></div>"
   ]
  },
  {
   "cell_type": "code",
   "execution_count": 4,
   "id": "latin-humanitarian",
   "metadata": {
    "deletable": false,
    "nbgrader": {
     "cell_type": "code",
     "checksum": "a9bd83da99584e73cd216b99b32f470b",
     "grade": false,
     "grade_id": "ex1",
     "locked": false,
     "schema_version": 3,
     "solution": true,
     "task": false
    }
   },
   "outputs": [],
   "source": [
    "# YOUR CODE HERE\n",
    "data=data.drop(['_id','JARDUERA_ZENBAKIA/NUM_ACTUACION','ERABILTZAILEA_EU/USUARIO_EU','EGOERA_EU/ESTADO_EU','ITXIERAKO AGENTEA_EU/AGENTE CIERRE_EU'], axis = 1)"
   ]
  },
  {
   "cell_type": "code",
   "execution_count": 5,
   "id": "architectural-metropolitan",
   "metadata": {
    "deletable": false,
    "editable": false,
    "nbgrader": {
     "cell_type": "code",
     "checksum": "f8458a94316eb08cff60477c39f4d7c1",
     "grade": true,
     "grade_id": "ex1-1",
     "locked": true,
     "points": 0.4,
     "schema_version": 3,
     "solution": false,
     "task": false
    }
   },
   "outputs": [],
   "source": [
    "# LEAVE BLANK"
   ]
  },
  {
   "cell_type": "code",
   "execution_count": 6,
   "id": "statutory-income",
   "metadata": {
    "deletable": false,
    "editable": false,
    "nbgrader": {
     "cell_type": "code",
     "checksum": "1074cea6863c041e5ca7fd2f2db1e199",
     "grade": true,
     "grade_id": "ex1-2",
     "locked": true,
     "points": 0.4,
     "schema_version": 3,
     "solution": false,
     "task": false
    }
   },
   "outputs": [],
   "source": [
    "# LEAVE BLANK"
   ]
  },
  {
   "cell_type": "code",
   "execution_count": 7,
   "id": "other-premium",
   "metadata": {
    "deletable": false,
    "editable": false,
    "nbgrader": {
     "cell_type": "code",
     "checksum": "3c4a58f1e202f2365c8c126d52b9021e",
     "grade": true,
     "grade_id": "ex1-3",
     "locked": true,
     "points": 0.4,
     "schema_version": 3,
     "solution": false,
     "task": false
    }
   },
   "outputs": [],
   "source": [
    "# LEAVE BLANK"
   ]
  },
  {
   "cell_type": "code",
   "execution_count": 8,
   "id": "artistic-right",
   "metadata": {
    "deletable": false,
    "editable": false,
    "nbgrader": {
     "cell_type": "code",
     "checksum": "c84b0765d92790126964b2519920dc54",
     "grade": true,
     "grade_id": "ex1-4",
     "locked": true,
     "points": 0.4,
     "schema_version": 3,
     "solution": false,
     "task": false
    }
   },
   "outputs": [],
   "source": [
    "# LEAVE BLANK"
   ]
  },
  {
   "cell_type": "code",
   "execution_count": 9,
   "id": "possible-mentor",
   "metadata": {
    "deletable": false,
    "editable": false,
    "nbgrader": {
     "cell_type": "code",
     "checksum": "25683761ba9f30f4d1f381d69810a9e6",
     "grade": true,
     "grade_id": "ex1-5",
     "locked": true,
     "points": 0.4,
     "schema_version": 3,
     "solution": false,
     "task": false
    }
   },
   "outputs": [],
   "source": [
    "# LEAVE BLANK"
   ]
  },
  {
   "cell_type": "code",
   "execution_count": 10,
   "id": "miniature-belief",
   "metadata": {
    "deletable": false,
    "editable": false,
    "nbgrader": {
     "cell_type": "code",
     "checksum": "68a68ed8ab05968714a7e16be77a0939",
     "grade": true,
     "grade_id": "ex1-6",
     "locked": true,
     "points": 0.5,
     "schema_version": 3,
     "solution": false,
     "task": false
    }
   },
   "outputs": [],
   "source": [
    "# LEAVE BLANK"
   ]
  },
  {
   "cell_type": "markdown",
   "id": "sweet-violin",
   "metadata": {
    "deletable": false,
    "editable": false,
    "nbgrader": {
     "cell_type": "markdown",
     "checksum": "8b80cbc3ebf3899b1326356e23bc3cab",
     "grade": false,
     "grade_id": "ex2-intro",
     "locked": true,
     "schema_version": 3,
     "solution": false,
     "task": false
    }
   },
   "source": [
    "### Modifying column names\n",
    "\n",
    "All column names are provided in Basque/Spanish. As they are, they might not be very informative to you. Hence, we are going to translate their names into English. There exists a Pandas function called ```rename```that can be used for this purpose. If you decide to use it, check the docs and make sure you know how to use this function before moving on to the next exercise.\n",
    "\n",
    "<div class=\"alert alert-info\"><b>Exercise 2 </b> Write the code to rename the columns in your dataframe according to the following equivalences:\n",
    "    <ul>\n",
    "        <li><i>ALTA_DATA/FECHA ALTA</i>: ENTRY DATE</li>\n",
    "        <li><i>ALTUERA/ALTURA</i>: HEIGHT</li>\n",
    "        <li><i>DIAMETROA/DIAMETRO</i>: DIAMETRE</li>\n",
    "        <li><i>EGOERA_CAS/ESTADO_CAS</i>: STATUS</li>\n",
    "        <li><i>ERABILTZAILEA_CAS/USUARIO_CAS</i>: USER</li>\n",
    "        <li><i>ESPEZIE/ESPECIE</i>: SPECIES</li>\n",
    "        <li><i>HELBIDEA/DIRECCION</i>: ADDRESS</li>\n",
    "        <li><i>ITXIERAKO AGENTEA_CAS/AGENTE CIERRE_CAS</i>: CLOSING AGENT</li>\n",
    "        <li><i>ITXIERA_DATA/FECHA CIERRE</i>: CLOSING DATE</li>\n",
    "        <li><i>KOKALEKUA/UBICACION</i>: LOCATION</li>\n",
    "        <li><i>UDALERRIA/MUNICIPIO</i>: MUNICIPALITY</li>\n",
    "        <li><i>URTEA/ANIO</i>: YEAR</li>\n",
    "        <li><i>latitude</i>: LAT</li>\n",
    "        <li><i>longitude</i>: LON</li>\n",
    "    </ul>\n",
    "    \n",
    "</div>\n",
    "\n",
    "<div class='alert alert-warning'>Make sure that you remove the columns completely and that you don't modify the name of your dataframe, which should still be <b>data</b></div>\n",
    "\n",
    "<div class=\"alert alert-warning\">Make sure that your rename the columns according to the names provided above. They should all be in capital letters.</div>\n",
    "\n",
    "<div class=\"alert alert-warning\">Because we are renaming the columns, by the end of this exercise your dataframe should only contain the columns listed above.</div>"
   ]
  },
  {
   "cell_type": "code",
   "execution_count": 11,
   "id": "electrical-optimization",
   "metadata": {
    "deletable": false,
    "nbgrader": {
     "cell_type": "code",
     "checksum": "af04d3137f6dce94240622e70756766b",
     "grade": false,
     "grade_id": "ex2",
     "locked": false,
     "schema_version": 3,
     "solution": true,
     "task": false
    }
   },
   "outputs": [],
   "source": [
    "# YOUR CODE HERE\n",
    "data=data.rename(columns={\"ALTA_DATA/FECHA ALTA\": \"ENTRY DATE\",\n",
    "                          \"ALTUERA/ALTURA\": \"HEIGHT\",\n",
    "                          \"DIAMETROA/DIAMETRO\": \"DIAMETRE\",\n",
    "                          \"EGOERA_CAS/ESTADO_CAS\": \"STATUS\",\n",
    "                          \"ERABILTZAILEA_CAS/USUARIO_CAS\": \"USER\",\n",
    "                          \"ESPEZIE/ESPECIE\": \"SPECIES\",\n",
    "                          \"HELBIDEA/DIRECCION\": \"ADDRESS\",\n",
    "                          \"ITXIERAKO AGENTEA_CAS/AGENTE CIERRE_CAS\": \"CLOSING AGENT\",\n",
    "                          \"ITXIERA_DATA/FECHA CIERRE\": \"CLOSING DATE\",\n",
    "                          \"KOKALEKUA/UBICACION\": \"LOCATION\",\n",
    "                          \"UDALERRIA/MUNICIPIO\": \"MUNICIPALITY\",\n",
    "                          \"URTEA/ANIO\": \"YEAR\",\n",
    "                          \"latitude\": \"LAT\",\n",
    "                          \"longitude\": \"LON\"\n",
    "                         })"
   ]
  },
  {
   "cell_type": "code",
   "execution_count": 12,
   "id": "inner-scanning",
   "metadata": {
    "deletable": false,
    "editable": false,
    "nbgrader": {
     "cell_type": "code",
     "checksum": "bdf8c9dd89dab613c91e76325be25418",
     "grade": true,
     "grade_id": "ex2-1",
     "locked": true,
     "points": 1,
     "schema_version": 3,
     "solution": false,
     "task": false
    }
   },
   "outputs": [],
   "source": [
    "# LEAVE BLANK"
   ]
  },
  {
   "cell_type": "code",
   "execution_count": 13,
   "id": "compliant-factory",
   "metadata": {
    "deletable": false,
    "editable": false,
    "nbgrader": {
     "cell_type": "code",
     "checksum": "4944323f2cf11fb05d0e81b492da4fad",
     "grade": true,
     "grade_id": "ex2-2",
     "locked": true,
     "points": 1,
     "schema_version": 3,
     "solution": false,
     "task": false
    }
   },
   "outputs": [],
   "source": [
    "# LEAVE BLANK"
   ]
  },
  {
   "cell_type": "code",
   "execution_count": 14,
   "id": "organizational-remove",
   "metadata": {
    "deletable": false,
    "editable": false,
    "nbgrader": {
     "cell_type": "code",
     "checksum": "ea373aaaa6ec9e946426440e5fae2d38",
     "grade": true,
     "grade_id": "ex2-3",
     "locked": true,
     "points": 1,
     "schema_version": 3,
     "solution": false,
     "task": false
    }
   },
   "outputs": [],
   "source": [
    "# LEAVE BLANK"
   ]
  },
  {
   "cell_type": "code",
   "execution_count": 15,
   "id": "nonprofit-outdoors",
   "metadata": {
    "deletable": false,
    "editable": false,
    "nbgrader": {
     "cell_type": "code",
     "checksum": "0af020862d971df87e485727f3ed9024",
     "grade": true,
     "grade_id": "ex2-4",
     "locked": true,
     "points": 1,
     "schema_version": 3,
     "solution": false,
     "task": false
    }
   },
   "outputs": [],
   "source": [
    "# LEAVE BLANK"
   ]
  },
  {
   "cell_type": "code",
   "execution_count": 16,
   "id": "cloudy-narrative",
   "metadata": {
    "deletable": false,
    "editable": false,
    "nbgrader": {
     "cell_type": "code",
     "checksum": "d5c0ffaed1134cdf7274caaa4447c64c",
     "grade": true,
     "grade_id": "ex2-5",
     "locked": true,
     "points": 1,
     "schema_version": 3,
     "solution": false,
     "task": false
    }
   },
   "outputs": [],
   "source": [
    "# LEAVE BLANK"
   ]
  },
  {
   "cell_type": "code",
   "execution_count": 17,
   "id": "classical-april",
   "metadata": {
    "deletable": false,
    "editable": false,
    "nbgrader": {
     "cell_type": "code",
     "checksum": "cfaa77d27612fe80e3ae19b45b162f3a",
     "grade": true,
     "grade_id": "ex2-6",
     "locked": true,
     "points": 1,
     "schema_version": 3,
     "solution": false,
     "task": false
    }
   },
   "outputs": [],
   "source": [
    "# LEAVE BLANK"
   ]
  },
  {
   "cell_type": "code",
   "execution_count": 18,
   "id": "indonesian-dialogue",
   "metadata": {
    "deletable": false,
    "editable": false,
    "nbgrader": {
     "cell_type": "code",
     "checksum": "6c891825b8a9a898ddec40a17e244391",
     "grade": true,
     "grade_id": "ex2-7",
     "locked": true,
     "points": 1,
     "schema_version": 3,
     "solution": false,
     "task": false
    }
   },
   "outputs": [],
   "source": [
    "# LEAVE BLANK"
   ]
  },
  {
   "cell_type": "code",
   "execution_count": 19,
   "id": "obvious-throw",
   "metadata": {
    "deletable": false,
    "editable": false,
    "nbgrader": {
     "cell_type": "code",
     "checksum": "c3aac7b0dd788452216cf0fee9856993",
     "grade": true,
     "grade_id": "ex2-8",
     "locked": true,
     "points": 1,
     "schema_version": 3,
     "solution": false,
     "task": false
    }
   },
   "outputs": [],
   "source": [
    "# LEAVE BLANK"
   ]
  },
  {
   "cell_type": "code",
   "execution_count": 20,
   "id": "separate-valuation",
   "metadata": {
    "deletable": false,
    "editable": false,
    "nbgrader": {
     "cell_type": "code",
     "checksum": "508c39da358a2d83e79cb6a86333fe51",
     "grade": true,
     "grade_id": "ex2-9",
     "locked": true,
     "points": 1,
     "schema_version": 3,
     "solution": false,
     "task": false
    }
   },
   "outputs": [],
   "source": [
    "# LEAVE BLANK"
   ]
  },
  {
   "cell_type": "code",
   "execution_count": 21,
   "id": "expanded-adult",
   "metadata": {
    "deletable": false,
    "editable": false,
    "nbgrader": {
     "cell_type": "code",
     "checksum": "aae51dd955607eca396b111487e11a38",
     "grade": true,
     "grade_id": "ex2-10",
     "locked": true,
     "points": 1,
     "schema_version": 3,
     "solution": false,
     "task": false
    }
   },
   "outputs": [],
   "source": [
    "# LEAVE BLANK"
   ]
  },
  {
   "cell_type": "code",
   "execution_count": 22,
   "id": "killing-yukon",
   "metadata": {
    "deletable": false,
    "editable": false,
    "nbgrader": {
     "cell_type": "code",
     "checksum": "2579f9499df5c2f324a2c81733605935",
     "grade": true,
     "grade_id": "ex2-11",
     "locked": true,
     "points": 1,
     "schema_version": 3,
     "solution": false,
     "task": false
    }
   },
   "outputs": [],
   "source": [
    "# LEAVE BLANK"
   ]
  },
  {
   "cell_type": "code",
   "execution_count": 23,
   "id": "dedicated-struggle",
   "metadata": {
    "deletable": false,
    "editable": false,
    "nbgrader": {
     "cell_type": "code",
     "checksum": "a9f993bf01fce2bfca1868657411e5b2",
     "grade": true,
     "grade_id": "ex2-12",
     "locked": true,
     "points": 1,
     "schema_version": 3,
     "solution": false,
     "task": false
    }
   },
   "outputs": [],
   "source": [
    "# LEAVE BLANK"
   ]
  },
  {
   "cell_type": "code",
   "execution_count": 24,
   "id": "quarterly-mother",
   "metadata": {
    "deletable": false,
    "editable": false,
    "nbgrader": {
     "cell_type": "code",
     "checksum": "3e9f4526e0565eac06c429d69510b3a7",
     "grade": true,
     "grade_id": "ex2-13",
     "locked": true,
     "points": 1,
     "schema_version": 3,
     "solution": false,
     "task": false
    }
   },
   "outputs": [],
   "source": [
    "# LEAVE BLANK"
   ]
  },
  {
   "cell_type": "code",
   "execution_count": 25,
   "id": "utility-retreat",
   "metadata": {
    "deletable": false,
    "editable": false,
    "nbgrader": {
     "cell_type": "code",
     "checksum": "b7e4658b3a7b9abab869c9cf2e5263e0",
     "grade": true,
     "grade_id": "ex2-14",
     "locked": true,
     "points": 1,
     "schema_version": 3,
     "solution": false,
     "task": false
    }
   },
   "outputs": [],
   "source": [
    "# LEAVE BLANK"
   ]
  },
  {
   "cell_type": "code",
   "execution_count": 26,
   "id": "therapeutic-syndication",
   "metadata": {
    "deletable": false,
    "editable": false,
    "nbgrader": {
     "cell_type": "code",
     "checksum": "6188c5449a94b85154c1c9c64717f793",
     "grade": true,
     "grade_id": "ex2-15",
     "locked": true,
     "points": 1,
     "schema_version": 3,
     "solution": false,
     "task": false
    }
   },
   "outputs": [],
   "source": [
    "# LEAVE BLANK"
   ]
  },
  {
   "cell_type": "markdown",
   "id": "close-telephone",
   "metadata": {
    "deletable": false,
    "editable": false,
    "nbgrader": {
     "cell_type": "markdown",
     "checksum": "99d4562ab026c7d2f489cd9c5b2098a7",
     "grade": false,
     "grade_id": "ex3-intro",
     "locked": true,
     "schema_version": 3,
     "solution": false,
     "task": false
    }
   },
   "source": [
    "### Dealing with missing values\n",
    "\n",
    "Now that our dataframe is properly labelled, let's take a look at the missing values. If you take a close look at the data, you'll see that there are several entries encoded with NaNs. We are going to first identify them and then remove them from the dataframe.\n",
    "\n",
    "The expected output of the count_nulls function of DataFrame data is as follows\n",
    "\n",
    "|\t|COL\t       |N_NULLS|\n",
    "|---|--------------|---|\n",
    "|0\t|YEAR\t       |0|\n",
    "|1\t|ENTRY DATE\t   |0|\n",
    "|2\t|USER\t       |0|\n",
    "|3\t|MUNICIPALITY  |0|\n",
    "|4\t|ADDRESS\t   |0|\n",
    "|5\t|SPECIES\t   |221|\n",
    "|6\t|LOCATION\t   |407|\n",
    "|7\t|HEIGHT\t       |221|\n",
    "|8\t|DIAMETRE\t   |221|\n",
    "|9\t|LON\t       |994|\n",
    "|10\t|LAT\t       |994|\n",
    "|11\t|STATUS\t       |0|\n",
    "|12\t|CLOSING DATE  |442|\n",
    "|13\t|CLOSING AGENT |0|\n",
    "\n",
    "<div class=\"alert alert-info\"><b>Exercise 3 </b> Write the code to complete function <i>count_nulls</i>. This function should take as input single argument called <b>df</b> containing a dataframe object and should return a new dataframe with two columns called COL and N_NULLS, respectively. COL should contain the different column names in the provided dataframe. N_NULLS should contain the number of missing values for each column. For example, in the case of our dataframe data, the column YEAR has no missing values, then the content for this row has to be YEAR in the column COL in string format and 0 in the column N_NULL in integer format.\n",
    "</div>\n",
    "\n",
    "<div class=\"alert alert-warning\"> Column names of the returned dataframe should be provided exactly as they appear in the input dataframe df\n",
    "</div>\n",
    "\n",
    "<div class=\"alert alert-warning\"> Your function should work for any provided dataframe. Ideally, you should check that it works for <i>data</i>, but also for any other dataframe object.</div>"
   ]
  },
  {
   "cell_type": "code",
   "execution_count": 27,
   "id": "confident-investment",
   "metadata": {
    "deletable": false,
    "nbgrader": {
     "cell_type": "code",
     "checksum": "cc7b8e9c3ad3ed210be7741b920f4b49",
     "grade": false,
     "grade_id": "ex3",
     "locked": false,
     "schema_version": 3,
     "solution": true,
     "task": false
    }
   },
   "outputs": [
    {
     "data": {
      "text/html": [
       "<div>\n",
       "<style scoped>\n",
       "    .dataframe tbody tr th:only-of-type {\n",
       "        vertical-align: middle;\n",
       "    }\n",
       "\n",
       "    .dataframe tbody tr th {\n",
       "        vertical-align: top;\n",
       "    }\n",
       "\n",
       "    .dataframe thead th {\n",
       "        text-align: right;\n",
       "    }\n",
       "</style>\n",
       "<table border=\"1\" class=\"dataframe\">\n",
       "  <thead>\n",
       "    <tr style=\"text-align: right;\">\n",
       "      <th></th>\n",
       "      <th>COL</th>\n",
       "      <th>N_NULLS</th>\n",
       "    </tr>\n",
       "  </thead>\n",
       "  <tbody>\n",
       "    <tr>\n",
       "      <td>0</td>\n",
       "      <td>YEAR</td>\n",
       "      <td>0</td>\n",
       "    </tr>\n",
       "    <tr>\n",
       "      <td>1</td>\n",
       "      <td>ENTRY DATE</td>\n",
       "      <td>0</td>\n",
       "    </tr>\n",
       "    <tr>\n",
       "      <td>2</td>\n",
       "      <td>USER</td>\n",
       "      <td>0</td>\n",
       "    </tr>\n",
       "    <tr>\n",
       "      <td>3</td>\n",
       "      <td>MUNICIPALITY</td>\n",
       "      <td>0</td>\n",
       "    </tr>\n",
       "    <tr>\n",
       "      <td>4</td>\n",
       "      <td>ADDRESS</td>\n",
       "      <td>0</td>\n",
       "    </tr>\n",
       "    <tr>\n",
       "      <td>5</td>\n",
       "      <td>SPECIES</td>\n",
       "      <td>221</td>\n",
       "    </tr>\n",
       "    <tr>\n",
       "      <td>6</td>\n",
       "      <td>LOCATION</td>\n",
       "      <td>407</td>\n",
       "    </tr>\n",
       "    <tr>\n",
       "      <td>7</td>\n",
       "      <td>HEIGHT</td>\n",
       "      <td>221</td>\n",
       "    </tr>\n",
       "    <tr>\n",
       "      <td>8</td>\n",
       "      <td>DIAMETRE</td>\n",
       "      <td>221</td>\n",
       "    </tr>\n",
       "    <tr>\n",
       "      <td>9</td>\n",
       "      <td>LON</td>\n",
       "      <td>994</td>\n",
       "    </tr>\n",
       "    <tr>\n",
       "      <td>10</td>\n",
       "      <td>LAT</td>\n",
       "      <td>994</td>\n",
       "    </tr>\n",
       "    <tr>\n",
       "      <td>11</td>\n",
       "      <td>STATUS</td>\n",
       "      <td>0</td>\n",
       "    </tr>\n",
       "    <tr>\n",
       "      <td>12</td>\n",
       "      <td>CLOSING DATE</td>\n",
       "      <td>442</td>\n",
       "    </tr>\n",
       "    <tr>\n",
       "      <td>13</td>\n",
       "      <td>CLOSING AGENT</td>\n",
       "      <td>0</td>\n",
       "    </tr>\n",
       "  </tbody>\n",
       "</table>\n",
       "</div>"
      ],
      "text/plain": [
       "              COL  N_NULLS\n",
       "0            YEAR        0\n",
       "1      ENTRY DATE        0\n",
       "2            USER        0\n",
       "3    MUNICIPALITY        0\n",
       "4         ADDRESS        0\n",
       "5         SPECIES      221\n",
       "6        LOCATION      407\n",
       "7          HEIGHT      221\n",
       "8        DIAMETRE      221\n",
       "9             LON      994\n",
       "10            LAT      994\n",
       "11         STATUS        0\n",
       "12   CLOSING DATE      442\n",
       "13  CLOSING AGENT        0"
      ]
     },
     "execution_count": 27,
     "metadata": {},
     "output_type": "execute_result"
    }
   ],
   "source": [
    "def count_nulls(df):\n",
    "    data_items=[]\n",
    "    for i in range(len(df.isnull().sum())):\n",
    "        data_items.append([df.isnull().sum().index[i],df.isnull().sum()[i]])\n",
    "    return pd.DataFrame(data_items, columns = ['COL', 'N_NULLS'])\n",
    "\n",
    "count_nulls(data)"
   ]
  },
  {
   "cell_type": "code",
   "execution_count": 28,
   "id": "isolated-virgin",
   "metadata": {
    "deletable": false,
    "editable": false,
    "nbgrader": {
     "cell_type": "code",
     "checksum": "a1f66a92e54f502f78b61f1378228dbc",
     "grade": true,
     "grade_id": "ex3-1",
     "locked": true,
     "points": 1,
     "schema_version": 3,
     "solution": false,
     "task": false
    }
   },
   "outputs": [],
   "source": [
    "# LEAVE BLANK"
   ]
  },
  {
   "cell_type": "code",
   "execution_count": 29,
   "id": "annual-glenn",
   "metadata": {
    "deletable": false,
    "editable": false,
    "nbgrader": {
     "cell_type": "code",
     "checksum": "21de371c65b112be53de533ae64248c7",
     "grade": true,
     "grade_id": "ex3-2",
     "locked": true,
     "points": 1,
     "schema_version": 3,
     "solution": false,
     "task": false
    }
   },
   "outputs": [],
   "source": [
    "# LEAVE BLANK"
   ]
  },
  {
   "cell_type": "code",
   "execution_count": 30,
   "id": "coordinated-conjunction",
   "metadata": {
    "deletable": false,
    "editable": false,
    "nbgrader": {
     "cell_type": "code",
     "checksum": "d55bebb26f35013d4685ddcdea708c9f",
     "grade": true,
     "grade_id": "ex3-3",
     "locked": true,
     "points": 1,
     "schema_version": 3,
     "solution": false,
     "task": false
    }
   },
   "outputs": [],
   "source": [
    "# LEAVE BLANK"
   ]
  },
  {
   "cell_type": "code",
   "execution_count": 31,
   "id": "dressed-moment",
   "metadata": {
    "deletable": false,
    "editable": false,
    "nbgrader": {
     "cell_type": "code",
     "checksum": "1c820387f423624188c23c751693dc53",
     "grade": true,
     "grade_id": "ex3-4",
     "locked": true,
     "points": 2,
     "schema_version": 3,
     "solution": false,
     "task": false
    }
   },
   "outputs": [],
   "source": [
    "# LEAVE BLANK"
   ]
  },
  {
   "cell_type": "code",
   "execution_count": 32,
   "id": "agricultural-lounge",
   "metadata": {
    "deletable": false,
    "editable": false,
    "nbgrader": {
     "cell_type": "code",
     "checksum": "44ab0c1956e1a404719bf8b80222baf4",
     "grade": true,
     "grade_id": "ex3-5",
     "locked": true,
     "points": 5,
     "schema_version": 3,
     "solution": false,
     "task": false
    }
   },
   "outputs": [],
   "source": [
    "# LEAVE BLANK"
   ]
  },
  {
   "cell_type": "code",
   "execution_count": 33,
   "id": "noted-layout",
   "metadata": {
    "deletable": false,
    "editable": false,
    "nbgrader": {
     "cell_type": "code",
     "checksum": "85bb71dbf6203f4bfdf81aed00a8de2e",
     "grade": true,
     "grade_id": "ex3-6",
     "locked": true,
     "points": 5,
     "schema_version": 3,
     "solution": false,
     "task": false
    }
   },
   "outputs": [],
   "source": [
    "# LEAVE BLANK"
   ]
  },
  {
   "cell_type": "markdown",
   "id": "recorded-mortality",
   "metadata": {
    "deletable": false,
    "editable": false,
    "nbgrader": {
     "cell_type": "markdown",
     "checksum": "63e3df40fcd15db38bec0341c6d22b47",
     "grade": false,
     "grade_id": "ex4-intro",
     "locked": true,
     "schema_version": 3,
     "solution": false,
     "task": false
    }
   },
   "source": [
    "We can now use this function to count the number of missing values in our dataframe. For those columns that have at least one missing value, there are two things we can do: remove the columns completely or fill the values that are missing. \n",
    "\n",
    "In general, we drop columns with a null value count above the 10% of the total number of rows. Our dataframe contains 6790 rows. All columns with more than 679 missing values should therefore be dropped.\n",
    "\n",
    "<div class=\"alert alert-info\"><b>Exercise 4 </b> Write the code to identify and drop those columns in your dataframe that contain <b>more than 679 missing values</b>. When possible, try to come up with a way to write the code to identify the right columns before hard-coding their names.\n",
    "</div>\n",
    "\n",
    "<div class='alert alert-warning'>Make sure that you remove the columns completely and that you don't modify the name of your dataframe, which should still be <b>data</b></div>"
   ]
  },
  {
   "cell_type": "code",
   "execution_count": 34,
   "id": "interior-clothing",
   "metadata": {
    "deletable": false,
    "nbgrader": {
     "cell_type": "code",
     "checksum": "77c0950f48c31968d3cd72934b2412ff",
     "grade": false,
     "grade_id": "ex4",
     "locked": false,
     "schema_version": 3,
     "solution": true,
     "task": false
    }
   },
   "outputs": [],
   "source": [
    "# YOUR CODE HERE\n",
    "\n",
    "items=[]\n",
    "for i in range(len(data.isnull().sum())):\n",
    "    if(data.isnull().sum()[i]>int(len(data)/10)):\n",
    "        items.append(str(data.isnull().sum().index[i]))\n",
    "        \n",
    "data=data.drop(items,axis=1)\n",
    "\n"
   ]
  },
  {
   "cell_type": "code",
   "execution_count": 35,
   "id": "sexual-national",
   "metadata": {
    "deletable": false,
    "editable": false,
    "nbgrader": {
     "cell_type": "code",
     "checksum": "7deb83688f9f1585f605226e75e0fcce",
     "grade": true,
     "grade_id": "ex4-1",
     "locked": true,
     "points": 2.5,
     "schema_version": 3,
     "solution": false,
     "task": false
    }
   },
   "outputs": [],
   "source": [
    "# LEAVE BLANK"
   ]
  },
  {
   "cell_type": "code",
   "execution_count": 36,
   "id": "bronze-intake",
   "metadata": {
    "deletable": false,
    "editable": false,
    "nbgrader": {
     "cell_type": "code",
     "checksum": "364d68d18d2bc8603c9375d9c3e02826",
     "grade": true,
     "grade_id": "ex4-2",
     "locked": true,
     "points": 2.5,
     "schema_version": 3,
     "solution": false,
     "task": false
    }
   },
   "outputs": [],
   "source": [
    "# LEAVE BLANK"
   ]
  },
  {
   "cell_type": "markdown",
   "id": "polyphonic-sensitivity",
   "metadata": {
    "deletable": false,
    "editable": false,
    "nbgrader": {
     "cell_type": "markdown",
     "checksum": "af6faddcde12a605c3da36a93d37f5bd",
     "grade": false,
     "grade_id": "ex5-intro",
     "locked": true,
     "schema_version": 3,
     "solution": false,
     "task": false
    }
   },
   "source": [
    "Among the remaining columns with missing values, there are two numerical columns, two categorical columns and one column which stores date information. In the following, we are going to fill in the missingvalues for these columns. Since dealing with datetime data is out of the scope of this course, we are simply going to remove that column.\n",
    "\n",
    "<div class=\"alert alert-info\"><b>Exercise 5 </b> Write the code to fill in the missing values in the numerical columns with the median and those in the categorical columns with the most frequent category. Finally, remove the column with missing values that stores date information.\n",
    "</div>\n",
    "\n",
    "<div class='alert alert-warning'>Make sure that the changes you make to the dataframe are effectively performed and that no missing values are left after replacement.</div>\n",
    "\n",
    "<div class='alert alert-warning'>Make sure that you remove the column completely and that you don't modify the name of your dataframe, which should still be <b>data</b></div>"
   ]
  },
  {
   "cell_type": "code",
   "execution_count": 37,
   "id": "surrounded-interpretation",
   "metadata": {
    "deletable": false,
    "nbgrader": {
     "cell_type": "code",
     "checksum": "610e656453f7bc5ae6339b9e3bc858d6",
     "grade": false,
     "grade_id": "ex5",
     "locked": false,
     "schema_version": 3,
     "solution": true,
     "task": false
    }
   },
   "outputs": [],
   "source": [
    "# YOUR CODE HERE\n",
    "data[\"SPECIES\"]=data[\"SPECIES\"].fillna(data.describe(include='O')['SPECIES'].top)\n",
    "data[\"LOCATION\"]=data[\"LOCATION\"].fillna(data.describe(include='O')['LOCATION'].top)\n",
    "\n",
    "data[\"HEIGHT\"]=data[\"HEIGHT\"].fillna(data['HEIGHT'].median())\n",
    "data[\"DIAMETRE\"]=data[\"DIAMETRE\"].fillna(data['DIAMETRE'].median())\n",
    "\n",
    "data=data.drop([\"CLOSING DATE\"],axis=1)"
   ]
  },
  {
   "cell_type": "code",
   "execution_count": 38,
   "id": "complete-tyler",
   "metadata": {
    "deletable": false,
    "editable": false,
    "nbgrader": {
     "cell_type": "code",
     "checksum": "dee56bb4651e26570ffb0509155b0edc",
     "grade": true,
     "grade_id": "ex5-1",
     "locked": true,
     "points": 3,
     "schema_version": 3,
     "solution": false,
     "task": false
    }
   },
   "outputs": [],
   "source": [
    "# LEAVE BLANK"
   ]
  },
  {
   "cell_type": "code",
   "execution_count": 39,
   "id": "unusual-asset",
   "metadata": {
    "deletable": false,
    "editable": false,
    "nbgrader": {
     "cell_type": "code",
     "checksum": "23da6e6b9737618499d405ae20897d47",
     "grade": true,
     "grade_id": "ex5-2",
     "locked": true,
     "points": 3,
     "schema_version": 3,
     "solution": false,
     "task": false
    }
   },
   "outputs": [],
   "source": [
    "# LEAVE BLANK"
   ]
  },
  {
   "cell_type": "code",
   "execution_count": 40,
   "id": "south-albert",
   "metadata": {
    "deletable": false,
    "editable": false,
    "nbgrader": {
     "cell_type": "code",
     "checksum": "9e4d469fb42a04604782be5c6c10d679",
     "grade": true,
     "grade_id": "ex5-3",
     "locked": true,
     "points": 3,
     "schema_version": 3,
     "solution": false,
     "task": false
    }
   },
   "outputs": [],
   "source": [
    "# LEAVE BLANK"
   ]
  },
  {
   "cell_type": "code",
   "execution_count": 41,
   "id": "premium-dream",
   "metadata": {
    "deletable": false,
    "editable": false,
    "nbgrader": {
     "cell_type": "code",
     "checksum": "457138fed38614cb863210f15a4610f6",
     "grade": true,
     "grade_id": "ex5-4",
     "locked": true,
     "points": 3,
     "schema_version": 3,
     "solution": false,
     "task": false
    }
   },
   "outputs": [],
   "source": [
    "# LEAVE BLANK"
   ]
  },
  {
   "cell_type": "code",
   "execution_count": 42,
   "id": "proper-symphony",
   "metadata": {
    "deletable": false,
    "editable": false,
    "nbgrader": {
     "cell_type": "code",
     "checksum": "f94db291ebccf104e6dfbc5dbd109040",
     "grade": true,
     "grade_id": "ex5-5",
     "locked": true,
     "points": 1.5,
     "schema_version": 3,
     "solution": false,
     "task": false
    }
   },
   "outputs": [],
   "source": [
    "# LEAVE BLANK"
   ]
  },
  {
   "cell_type": "code",
   "execution_count": 43,
   "id": "urban-acrylic",
   "metadata": {
    "deletable": false,
    "editable": false,
    "nbgrader": {
     "cell_type": "code",
     "checksum": "228bb4dab60e68dd9f749fe0955b017d",
     "grade": true,
     "grade_id": "ex5-6",
     "locked": true,
     "points": 1.5,
     "schema_version": 3,
     "solution": false,
     "task": false
    }
   },
   "outputs": [],
   "source": [
    "# LEAVE BLANK"
   ]
  },
  {
   "cell_type": "markdown",
   "id": "conditional-running",
   "metadata": {
    "deletable": false,
    "editable": false,
    "nbgrader": {
     "cell_type": "markdown",
     "checksum": "7ccc4db84ce99eabef2dd709049088fc",
     "grade": false,
     "grade_id": "ex6-intro",
     "locked": true,
     "schema_version": 3,
     "solution": false,
     "task": false
    }
   },
   "source": [
    "### Categorical variable encoding\n",
    "\n",
    "Now that we've removed all the missing values, the next step is to encode the categorical values to convert them to numerical. There are several categorical variables in our dataframe, including USER, MUNICIPALITY, ADDRESS, SPECIES, LOCATION, STATUS and CLOSING AGENT. In addition, there is also the ENTRY DATE columns, which refers to datetime information. \n",
    "\n",
    "The first step before encoding categorical attributes is to check their values to ensure there are no errors. For this purpose, you can use the ```unique``` function. \n",
    "\n",
    "You'll notice that the values for USER and MUNICIPALITY are often the same. Hence, we will start by removing the first column to avoid redundancy in our dataset. In addition, the ADDRESS information is often too specific and might not be useful as a predictor. We will therefore also remove this attribute. Finally, we will also get rid of ENTRY DATE, since we don't want to deal with datetime attributes.\n",
    "\n",
    "<div class=\"alert alert-info\"><b>Exercise 6 </b> Write the code to create a new dataframe called <b>cleaned_data</b> which contains the same information stored in <i>data</i>, excluding the columns <i>USER</i>, <i>ADDRESS</i> and <i>ENTRY DATE</i>.\n",
    "</div>\n"
   ]
  },
  {
   "cell_type": "code",
   "execution_count": 44,
   "id": "premier-membrane",
   "metadata": {
    "deletable": false,
    "nbgrader": {
     "cell_type": "code",
     "checksum": "927905224098fd3254039615ca9587e8",
     "grade": false,
     "grade_id": "ex6",
     "locked": false,
     "schema_version": 3,
     "solution": true,
     "task": false
    }
   },
   "outputs": [
    {
     "name": "stdout",
     "output_type": "stream",
     "text": [
      "Unique value in USER:\n",
      "113\n",
      "Unique value in MUNICIPALITY:\n",
      "118\n"
     ]
    }
   ],
   "source": [
    "# YOUR CODE HERE\n",
    "print(\"Unique value in USER:\")\n",
    "print(len(data[\"USER\"].unique()))\n",
    "# YOUR CODE HERE\n",
    "print(\"Unique value in MUNICIPALITY:\")\n",
    "print(len(data[\"MUNICIPALITY\"].unique()))"
   ]
  },
  {
   "cell_type": "code",
   "execution_count": 45,
   "metadata": {},
   "outputs": [],
   "source": [
    "cleaned_data=data.drop(['USER',\"ADDRESS\",\"ENTRY DATE\"],axis=1)"
   ]
  },
  {
   "cell_type": "code",
   "execution_count": 46,
   "id": "athletic-circle",
   "metadata": {
    "deletable": false,
    "editable": false,
    "nbgrader": {
     "cell_type": "code",
     "checksum": "3b19e08791aabacd756354247e1214e6",
     "grade": true,
     "grade_id": "ex6-1",
     "locked": true,
     "points": 1,
     "schema_version": 3,
     "solution": false,
     "task": false
    }
   },
   "outputs": [],
   "source": [
    "# LEAVE BLANK"
   ]
  },
  {
   "cell_type": "code",
   "execution_count": 47,
   "id": "exact-shift",
   "metadata": {
    "deletable": false,
    "editable": false,
    "nbgrader": {
     "cell_type": "code",
     "checksum": "00420ce59ddc2229cd0ba11e83d1126b",
     "grade": true,
     "grade_id": "ex6-2",
     "locked": true,
     "points": 1.5,
     "schema_version": 3,
     "solution": false,
     "task": false
    }
   },
   "outputs": [],
   "source": [
    "# LEAVE BLANK"
   ]
  },
  {
   "cell_type": "markdown",
   "id": "finite-roman",
   "metadata": {
    "deletable": false,
    "editable": false,
    "nbgrader": {
     "cell_type": "markdown",
     "checksum": "5ae4c4d57cb279d1291a1a6d7e92368e",
     "grade": false,
     "grade_id": "ex7-intro",
     "locked": true,
     "schema_version": 3,
     "solution": false,
     "task": false
    }
   },
   "source": [
    "If you take a close look at the unique values for CLOSING AGENT, you'll see that there appears to be a typing mistake, whereby some entries have been labelled with \"AYUNTAMIENTO\" and some others with \"AYUNTAMIENTO \" with an extra space at the end of the string. This is clearly an error that needs to be taken care of.\n",
    "\n",
    "<div class=\"alert alert-info\"><b>Exercise 7 </b> Write the code to modify all the entries in <i>cleaned_data</i> for which the value of the column <b>CLOSING AGENT</b> is equal to <b>\"AYUNTAMIENTO \"</b> and set them to the value <b>\"AYUNTAMIENTO\"</b>.\n",
    "</div>\n",
    "\n",
    "<div class='alert alert-warning'>Remember to check that you've correctly modified all the values.</div>"
   ]
  },
  {
   "cell_type": "code",
   "execution_count": 48,
   "id": "communist-yeast",
   "metadata": {
    "deletable": false,
    "nbgrader": {
     "cell_type": "code",
     "checksum": "3d6a66c263fadd15a750140f3f5fa47e",
     "grade": false,
     "grade_id": "ex7",
     "locked": false,
     "schema_version": 3,
     "solution": true,
     "task": false
    }
   },
   "outputs": [
    {
     "name": "stdout",
     "output_type": "stream",
     "text": [
      "Before Replacing:\n",
      "['BOMBEROS' 'BASALAN' 'AYUNTAMIENTO ' 'AYUNTAMIENTO']\n",
      "After Replacing:\n",
      "['BOMBEROS' 'BASALAN' 'AYUNTAMIENTO']\n"
     ]
    }
   ],
   "source": [
    "# YOUR CODE HERE\n",
    "print(\"Before Replacing:\")\n",
    "print(cleaned_data['CLOSING AGENT'].unique())\n",
    "cleaned_data['CLOSING AGENT']=cleaned_data['CLOSING AGENT'].replace(\"AYUNTAMIENTO \", \"AYUNTAMIENTO\")\n",
    "print(\"After Replacing:\")\n",
    "print(cleaned_data['CLOSING AGENT'].unique())"
   ]
  },
  {
   "cell_type": "code",
   "execution_count": 49,
   "id": "strong-healthcare",
   "metadata": {
    "deletable": false,
    "editable": false,
    "nbgrader": {
     "cell_type": "code",
     "checksum": "4d9a74df8741624d71e355ff526d2abd",
     "grade": true,
     "grade_id": "ex7-1",
     "locked": true,
     "points": 15,
     "schema_version": 3,
     "solution": false,
     "task": false
    }
   },
   "outputs": [],
   "source": [
    "# LEAVE BLANK"
   ]
  },
  {
   "cell_type": "markdown",
   "id": "weekly-millennium",
   "metadata": {
    "deletable": false,
    "editable": false,
    "nbgrader": {
     "cell_type": "markdown",
     "checksum": "f1dfa6394f36e629c16b6497d4ae5dec",
     "grade": false,
     "grade_id": "ex8-intro",
     "locked": true,
     "schema_version": 3,
     "solution": false,
     "task": false
    }
   },
   "source": [
    "We can now encode the categorical variables. Note, however, that in order to be able to make predictions for the different municipalities, we need to keep the MUNICIPALITY column as it is. We will therefore not encode this column for now.\n",
    "\n",
    "<div class=\"alert alert-info\"><b>Exercise 8 </b> Write the code to convert variables <b>CLOSING AGENT</b>, <b>STATUS</b>, <b>SPECIES</b> and <b>LOCATION</b>. In all cases, assume that there is no order among the categories. You can use any method of your choosing to perform the encoding. Juts make sure that the new column are named exactly the same way as the original categories.\n",
    "</div>\n",
    "\n",
    "<div class='alert alert-warning'>Make sure that you remove the original columns and that you don't modify the name of your dataframe, which should still be <b>cleaned_data</b></div>"
   ]
  },
  {
   "cell_type": "code",
   "execution_count": 50,
   "id": "ranging-winter",
   "metadata": {
    "deletable": false,
    "nbgrader": {
     "cell_type": "code",
     "checksum": "0b2c8ef2b52ea62f05df465929667b4b",
     "grade": false,
     "grade_id": "ex8",
     "locked": false,
     "schema_version": 3,
     "solution": true,
     "task": false
    }
   },
   "outputs": [
    {
     "data": {
      "text/plain": [
       "array([0, 1, 2], dtype=int64)"
      ]
     },
     "execution_count": 50,
     "metadata": {},
     "output_type": "execute_result"
    }
   ],
   "source": [
    "# YOUR CODE HERE\n",
    "cleaned_data['CLOSING AGENT']=cleaned_data['CLOSING AGENT'].replace(\"BOMBEROS\",0)\n",
    "cleaned_data['CLOSING AGENT']=cleaned_data['CLOSING AGENT'].replace(\"BASALAN\",1)\n",
    "cleaned_data['CLOSING AGENT']=cleaned_data['CLOSING AGENT'].replace(\"AYUNTAMIENTO\",2)\n",
    "cleaned_data['CLOSING AGENT'].unique()"
   ]
  },
  {
   "cell_type": "code",
   "execution_count": 51,
   "metadata": {},
   "outputs": [
    {
     "data": {
      "text/plain": [
       "array([0, 1, 2], dtype=int64)"
      ]
     },
     "execution_count": 51,
     "metadata": {},
     "output_type": "execute_result"
    }
   ],
   "source": [
    "cleaned_data['STATUS'].unique()\n",
    "cleaned_data['STATUS']=cleaned_data['STATUS'].replace(\"CERRADA - ELIMINADO\",0)\n",
    "cleaned_data['STATUS']=cleaned_data['STATUS'].replace(\"CERRADA - NO ELIMINABLE\",1)\n",
    "cleaned_data['STATUS']=cleaned_data['STATUS'].replace(\"PENDIENTE DE GRUPO\",2)\n",
    "cleaned_data['STATUS'].unique()"
   ]
  },
  {
   "cell_type": "code",
   "execution_count": 52,
   "metadata": {},
   "outputs": [
    {
     "data": {
      "text/plain": [
       "array([0, 1, 2], dtype=int64)"
      ]
     },
     "execution_count": 52,
     "metadata": {},
     "output_type": "execute_result"
    }
   ],
   "source": [
    "cleaned_data['SPECIES']=cleaned_data['SPECIES'].replace(\"AVISPA ASIÁTICA\",0)\n",
    "cleaned_data['SPECIES']=cleaned_data['SPECIES'].replace(\"AVISPA COMÚN\",1)\n",
    "cleaned_data['SPECIES']=cleaned_data['SPECIES'].replace(\"ABEJA\",2)\n",
    "cleaned_data['SPECIES'].unique()"
   ]
  },
  {
   "cell_type": "code",
   "execution_count": 53,
   "metadata": {},
   "outputs": [
    {
     "data": {
      "text/plain": [
       "array([0, 1], dtype=int64)"
      ]
     },
     "execution_count": 53,
     "metadata": {},
     "output_type": "execute_result"
    }
   ],
   "source": [
    "cleaned_data['LOCATION'].unique()\n",
    "cleaned_data['LOCATION']=cleaned_data['LOCATION'].replace(\"CONSTRUCCIÓN\",0)\n",
    "cleaned_data['LOCATION']=cleaned_data['LOCATION'].replace(\"ARBOLADO\",1)\n",
    "cleaned_data['LOCATION'].unique()"
   ]
  },
  {
   "cell_type": "code",
   "execution_count": 54,
   "id": "found-technology",
   "metadata": {
    "deletable": false,
    "editable": false,
    "nbgrader": {
     "cell_type": "code",
     "checksum": "ee0af9005837c660c6e13dc1187d24e4",
     "grade": true,
     "grade_id": "ex8-1",
     "locked": true,
     "points": 4,
     "schema_version": 3,
     "solution": false,
     "task": false
    }
   },
   "outputs": [],
   "source": [
    "# LEAVE BLANK"
   ]
  },
  {
   "cell_type": "code",
   "execution_count": 55,
   "id": "muslim-volleyball",
   "metadata": {
    "deletable": false,
    "editable": false,
    "nbgrader": {
     "cell_type": "code",
     "checksum": "f8ebedfd6b227c743568a6dc8a2887f3",
     "grade": true,
     "grade_id": "ex8-2",
     "locked": true,
     "points": 4,
     "schema_version": 3,
     "solution": false,
     "task": false
    }
   },
   "outputs": [],
   "source": [
    "# LEAVE BLANK"
   ]
  },
  {
   "cell_type": "code",
   "execution_count": 56,
   "id": "heavy-lecture",
   "metadata": {
    "deletable": false,
    "editable": false,
    "nbgrader": {
     "cell_type": "code",
     "checksum": "2d99c93cb9e3d7f16dc0ee1e38222e12",
     "grade": true,
     "grade_id": "ex8-3",
     "locked": true,
     "points": 4,
     "schema_version": 3,
     "solution": false,
     "task": false
    }
   },
   "outputs": [],
   "source": [
    "# LEAVE BLANK"
   ]
  },
  {
   "cell_type": "code",
   "execution_count": 57,
   "id": "complimentary-notice",
   "metadata": {
    "deletable": false,
    "editable": false,
    "nbgrader": {
     "cell_type": "code",
     "checksum": "5d4e0bbdd9f8317890f4e60a4174c2c6",
     "grade": true,
     "grade_id": "ex8-4",
     "locked": true,
     "points": 1.5,
     "schema_version": 3,
     "solution": false,
     "task": false
    }
   },
   "outputs": [],
   "source": [
    "# LEAVE BLANK"
   ]
  },
  {
   "cell_type": "code",
   "execution_count": 58,
   "id": "sunrise-alliance",
   "metadata": {
    "deletable": false,
    "editable": false,
    "nbgrader": {
     "cell_type": "code",
     "checksum": "11824bb48e68ad150ab1eac5bed584ae",
     "grade": true,
     "grade_id": "ex8-5",
     "locked": true,
     "points": 1.5,
     "schema_version": 3,
     "solution": false,
     "task": false
    }
   },
   "outputs": [],
   "source": [
    "# LEAVE BLANK"
   ]
  },
  {
   "cell_type": "markdown",
   "id": "distinct-target",
   "metadata": {
    "deletable": false,
    "editable": false,
    "nbgrader": {
     "cell_type": "markdown",
     "checksum": "01abd2085605bb18e0d94ef1efbd350e",
     "grade": false,
     "grade_id": "ex9-intro",
     "locked": true,
     "schema_version": 3,
     "solution": false,
     "task": false
    }
   },
   "source": [
    "### Data normalization\n",
    "\n",
    "As a final step, we will normalize the data. Given that most of the variables in the original dataset were unordered categorical attributes that are now encoded as 0/1 features, it makes sense to use a [0,1] normalization to convert all the data to the [0,1] range.\n",
    "\n",
    "Bear in mind when doing this that the column YEAR contains the year when the different nests were found and the column MUNICIPALITY the names of the town where the nests were located. We will use these data as reference, so we won't be encoding them.\n",
    "\n",
    "<div class=\"alert alert-info\"><b>Exercise 9 </b> Write the code to normalize all the columns in <i>cleaned_data</i> except for <b>YEAR</b> and <b>MUNICIPALITY></b> using a min/max scaler and store the result in a new dataframe called <i>norm_data</i>. Feel free to use any method of your choosing to perform the scaling. Just make sure you keep the original column names.\n",
    "</div>"
   ]
  },
  {
   "cell_type": "code",
   "execution_count": 59,
   "id": "velvet-potato",
   "metadata": {
    "deletable": false,
    "nbgrader": {
     "cell_type": "code",
     "checksum": "be967220b111d915c339b5632a7ef637",
     "grade": false,
     "grade_id": "ex9",
     "locked": false,
     "schema_version": 3,
     "solution": true,
     "task": false
    }
   },
   "outputs": [
    {
     "name": "stdout",
     "output_type": "stream",
     "text": [
      "Before Scaling..\n",
      "Minimun: 0 Maximun: 2\n",
      "After Scaling..\n",
      "Minimun: 0.0 Maximun: 1.0\n"
     ]
    }
   ],
   "source": [
    "# YOUR CODE HERE\n",
    "def minmaxscaling(col):\n",
    "    print(\"Before Scaling..\")\n",
    "    print(\"Minimun:\",min(col),\"Maximun:\",max(col))\n",
    "    col=col-min(col)\n",
    "    col=col/max(col)\n",
    "    print(\"After Scaling..\")\n",
    "    print(\"Minimun:\",min(col),\"Maximun:\",max(col))\n",
    "    return col\n",
    "norm_data=pd.DataFrame() \n",
    "norm_data['YEAR']=cleaned_data['YEAR']\n",
    "norm_data['MUNICIPALITY']=cleaned_data['MUNICIPALITY']\n",
    "\n",
    "norm_data['SPECIES']=minmaxscaling(cleaned_data['SPECIES'])\n",
    "\n"
   ]
  },
  {
   "cell_type": "code",
   "execution_count": 60,
   "metadata": {},
   "outputs": [
    {
     "name": "stdout",
     "output_type": "stream",
     "text": [
      "Before Scaling..\n",
      "Minimun: 0 Maximun: 1\n",
      "After Scaling..\n",
      "Minimun: 0.0 Maximun: 1.0\n"
     ]
    }
   ],
   "source": [
    "norm_data['LOCATION']=minmaxscaling(cleaned_data['LOCATION'])"
   ]
  },
  {
   "cell_type": "code",
   "execution_count": 61,
   "metadata": {},
   "outputs": [
    {
     "name": "stdout",
     "output_type": "stream",
     "text": [
      "Before Scaling..\n",
      "Minimun: 0.0 Maximun: 250.0\n",
      "After Scaling..\n",
      "Minimun: 0.0 Maximun: 1.0\n"
     ]
    }
   ],
   "source": [
    "norm_data['HEIGHT']=minmaxscaling(cleaned_data['HEIGHT'])"
   ]
  },
  {
   "cell_type": "code",
   "execution_count": 62,
   "metadata": {},
   "outputs": [
    {
     "name": "stdout",
     "output_type": "stream",
     "text": [
      "Before Scaling..\n",
      "Minimun: 0.0 Maximun: 255.0\n",
      "After Scaling..\n",
      "Minimun: 0.0 Maximun: 1.0\n"
     ]
    }
   ],
   "source": [
    "norm_data['DIAMETRE']=minmaxscaling(cleaned_data['DIAMETRE'])"
   ]
  },
  {
   "cell_type": "code",
   "execution_count": 63,
   "metadata": {},
   "outputs": [
    {
     "name": "stdout",
     "output_type": "stream",
     "text": [
      "Before Scaling..\n",
      "Minimun: 0 Maximun: 2\n",
      "After Scaling..\n",
      "Minimun: 0.0 Maximun: 1.0\n"
     ]
    }
   ],
   "source": [
    "norm_data['STATUS']=minmaxscaling(cleaned_data['STATUS'])"
   ]
  },
  {
   "cell_type": "code",
   "execution_count": 64,
   "metadata": {},
   "outputs": [
    {
     "name": "stdout",
     "output_type": "stream",
     "text": [
      "Before Scaling..\n",
      "Minimun: 0 Maximun: 2\n",
      "After Scaling..\n",
      "Minimun: 0.0 Maximun: 1.0\n"
     ]
    }
   ],
   "source": [
    "norm_data['CLOSING AGENT']=minmaxscaling(cleaned_data['CLOSING AGENT'])"
   ]
  },
  {
   "cell_type": "code",
   "execution_count": 65,
   "id": "employed-completion",
   "metadata": {
    "deletable": false,
    "editable": false,
    "nbgrader": {
     "cell_type": "code",
     "checksum": "cd6b41cb6eaec41056a522b4c5e801de",
     "grade": true,
     "grade_id": "ex9-1",
     "locked": true,
     "points": 2.5,
     "schema_version": 3,
     "solution": false,
     "task": false
    }
   },
   "outputs": [],
   "source": [
    "# LEAVE BLANK"
   ]
  },
  {
   "cell_type": "code",
   "execution_count": 66,
   "id": "psychological-business",
   "metadata": {
    "deletable": false,
    "editable": false,
    "nbgrader": {
     "cell_type": "code",
     "checksum": "f2f872617f638fa5bba7f9ca05b14f8b",
     "grade": true,
     "grade_id": "ex9-2",
     "locked": true,
     "points": 12.5,
     "schema_version": 3,
     "solution": false,
     "task": false
    }
   },
   "outputs": [],
   "source": [
    "# LEAVE BLANK"
   ]
  },
  {
   "cell_type": "markdown",
   "id": "conscious-newport",
   "metadata": {
    "deletable": false,
    "editable": false,
    "nbgrader": {
     "cell_type": "markdown",
     "checksum": "f8c5264cd14900fbadd13d586ef97369",
     "grade": false,
     "grade_id": "b-intro",
     "locked": true,
     "schema_version": 3,
     "solution": false,
     "task": false
    }
   },
   "source": [
    "### Bonus exercise\n",
    "\n",
    "According to the challenge, we should train a machine learning model that predicts the number of nests for each municipality for the year 2020. For this purpose, we will first group the data by municipality and year.\n",
    "\n",
    "<div class=\"alert alert-danger\"><b>Bonus </b> Since each row corresponds to a single nest, write the code to count the number of nests (or rows) by municipality and year. Save the output in a new dataframe called <b>counts</b>. Each row in this dataframe should correspond to a different municipality/year combination. This dataframe should contain the same columns as <i>norm_data</i>. The values for each column should display the total count of nests for each municipality and year.\n",
    "</div>"
   ]
  },
  {
   "cell_type": "code",
   "execution_count": 67,
   "id": "statutory-plasma",
   "metadata": {
    "deletable": false,
    "nbgrader": {
     "cell_type": "code",
     "checksum": "849bc91386893aee17d8dfe92ae4fcbf",
     "grade": false,
     "grade_id": "b",
     "locked": false,
     "schema_version": 3,
     "solution": true,
     "task": false
    }
   },
   "outputs": [
    {
     "data": {
      "text/html": [
       "<div>\n",
       "<style scoped>\n",
       "    .dataframe tbody tr th:only-of-type {\n",
       "        vertical-align: middle;\n",
       "    }\n",
       "\n",
       "    .dataframe tbody tr th {\n",
       "        vertical-align: top;\n",
       "    }\n",
       "\n",
       "    .dataframe thead th {\n",
       "        text-align: right;\n",
       "    }\n",
       "</style>\n",
       "<table border=\"1\" class=\"dataframe\">\n",
       "  <thead>\n",
       "    <tr style=\"text-align: right;\">\n",
       "      <th></th>\n",
       "      <th>YEAR</th>\n",
       "      <th>MUNICIPALITY</th>\n",
       "      <th>SPECIES</th>\n",
       "      <th>LOCATION</th>\n",
       "      <th>HEIGHT</th>\n",
       "      <th>DIAMETRE</th>\n",
       "      <th>STATUS</th>\n",
       "      <th>CLOSING AGENT</th>\n",
       "    </tr>\n",
       "  </thead>\n",
       "  <tbody>\n",
       "    <tr>\n",
       "      <td>0</td>\n",
       "      <td>2019</td>\n",
       "      <td>ABADIÑO</td>\n",
       "      <td>0</td>\n",
       "      <td>0</td>\n",
       "      <td>0.0</td>\n",
       "      <td>1.0</td>\n",
       "      <td>0</td>\n",
       "      <td>0</td>\n",
       "    </tr>\n",
       "    <tr>\n",
       "      <td>1</td>\n",
       "      <td>2019</td>\n",
       "      <td>ABADIÑO</td>\n",
       "      <td>0</td>\n",
       "      <td>0</td>\n",
       "      <td>8.0</td>\n",
       "      <td>10.0</td>\n",
       "      <td>0</td>\n",
       "      <td>1</td>\n",
       "    </tr>\n",
       "    <tr>\n",
       "      <td>2</td>\n",
       "      <td>2019</td>\n",
       "      <td>ABADIÑO</td>\n",
       "      <td>1</td>\n",
       "      <td>0</td>\n",
       "      <td>2.0</td>\n",
       "      <td>2.0</td>\n",
       "      <td>0</td>\n",
       "      <td>0</td>\n",
       "    </tr>\n",
       "    <tr>\n",
       "      <td>3</td>\n",
       "      <td>2019</td>\n",
       "      <td>ABADIÑO</td>\n",
       "      <td>0</td>\n",
       "      <td>0</td>\n",
       "      <td>4.0</td>\n",
       "      <td>20.0</td>\n",
       "      <td>0</td>\n",
       "      <td>0</td>\n",
       "    </tr>\n",
       "    <tr>\n",
       "      <td>4</td>\n",
       "      <td>2019</td>\n",
       "      <td>ABADIÑO</td>\n",
       "      <td>0</td>\n",
       "      <td>1</td>\n",
       "      <td>10.0</td>\n",
       "      <td>30.0</td>\n",
       "      <td>0</td>\n",
       "      <td>0</td>\n",
       "    </tr>\n",
       "    <tr>\n",
       "      <td>...</td>\n",
       "      <td>...</td>\n",
       "      <td>...</td>\n",
       "      <td>...</td>\n",
       "      <td>...</td>\n",
       "      <td>...</td>\n",
       "      <td>...</td>\n",
       "      <td>...</td>\n",
       "      <td>...</td>\n",
       "    </tr>\n",
       "    <tr>\n",
       "      <td>6785</td>\n",
       "      <td>2019</td>\n",
       "      <td>ZIORTZA-BOLIBAR</td>\n",
       "      <td>0</td>\n",
       "      <td>0</td>\n",
       "      <td>6.0</td>\n",
       "      <td>10.0</td>\n",
       "      <td>0</td>\n",
       "      <td>1</td>\n",
       "    </tr>\n",
       "    <tr>\n",
       "      <td>6786</td>\n",
       "      <td>2018</td>\n",
       "      <td>ZIORTZA-BOLIBAR</td>\n",
       "      <td>0</td>\n",
       "      <td>1</td>\n",
       "      <td>10.0</td>\n",
       "      <td>50.0</td>\n",
       "      <td>1</td>\n",
       "      <td>1</td>\n",
       "    </tr>\n",
       "    <tr>\n",
       "      <td>6787</td>\n",
       "      <td>2018</td>\n",
       "      <td>ZIORTZA-BOLIBAR</td>\n",
       "      <td>0</td>\n",
       "      <td>0</td>\n",
       "      <td>2.0</td>\n",
       "      <td>15.0</td>\n",
       "      <td>0</td>\n",
       "      <td>1</td>\n",
       "    </tr>\n",
       "    <tr>\n",
       "      <td>6788</td>\n",
       "      <td>2018</td>\n",
       "      <td>ZIORTZA-BOLIBAR</td>\n",
       "      <td>1</td>\n",
       "      <td>0</td>\n",
       "      <td>5.0</td>\n",
       "      <td>50.0</td>\n",
       "      <td>0</td>\n",
       "      <td>0</td>\n",
       "    </tr>\n",
       "    <tr>\n",
       "      <td>6789</td>\n",
       "      <td>2018</td>\n",
       "      <td>ZIORTZA-BOLIBAR</td>\n",
       "      <td>0</td>\n",
       "      <td>0</td>\n",
       "      <td>4.0</td>\n",
       "      <td>30.0</td>\n",
       "      <td>0</td>\n",
       "      <td>0</td>\n",
       "    </tr>\n",
       "  </tbody>\n",
       "</table>\n",
       "<p>1170 rows × 8 columns</p>\n",
       "</div>"
      ],
      "text/plain": [
       "      YEAR     MUNICIPALITY  SPECIES  LOCATION  HEIGHT  DIAMETRE  STATUS  \\\n",
       "0     2019          ABADIÑO        0         0     0.0       1.0       0   \n",
       "1     2019          ABADIÑO        0         0     8.0      10.0       0   \n",
       "2     2019          ABADIÑO        1         0     2.0       2.0       0   \n",
       "3     2019          ABADIÑO        0         0     4.0      20.0       0   \n",
       "4     2019          ABADIÑO        0         1    10.0      30.0       0   \n",
       "...    ...              ...      ...       ...     ...       ...     ...   \n",
       "6785  2019  ZIORTZA-BOLIBAR        0         0     6.0      10.0       0   \n",
       "6786  2018  ZIORTZA-BOLIBAR        0         1    10.0      50.0       1   \n",
       "6787  2018  ZIORTZA-BOLIBAR        0         0     2.0      15.0       0   \n",
       "6788  2018  ZIORTZA-BOLIBAR        1         0     5.0      50.0       0   \n",
       "6789  2018  ZIORTZA-BOLIBAR        0         0     4.0      30.0       0   \n",
       "\n",
       "      CLOSING AGENT  \n",
       "0                 0  \n",
       "1                 1  \n",
       "2                 0  \n",
       "3                 0  \n",
       "4                 0  \n",
       "...             ...  \n",
       "6785              1  \n",
       "6786              1  \n",
       "6787              1  \n",
       "6788              0  \n",
       "6789              0  \n",
       "\n",
       "[1170 rows x 8 columns]"
      ]
     },
     "execution_count": 67,
     "metadata": {},
     "output_type": "execute_result"
    }
   ],
   "source": [
    "# YOUR CODE HERE\n",
    "#grouping Municipality and Year\n",
    "counts = cleaned_data.groupby(['YEAR', 'MUNICIPALITY'])\n",
    "counts.head(5)"
   ]
  },
  {
   "cell_type": "code",
   "execution_count": 68,
   "metadata": {},
   "outputs": [
    {
     "data": {
      "text/plain": [
       "(6790, 8)"
      ]
     },
     "execution_count": 68,
     "metadata": {},
     "output_type": "execute_result"
    }
   ],
   "source": [
    "norm_data.shape"
   ]
  },
  {
   "cell_type": "code",
   "execution_count": 69,
   "id": "southwest-device",
   "metadata": {
    "deletable": false,
    "editable": false,
    "nbgrader": {
     "cell_type": "code",
     "checksum": "929c9cfe4e4f1ae36bf8d3153db3cb30",
     "grade": true,
     "grade_id": "b-1",
     "locked": true,
     "points": 1,
     "schema_version": 3,
     "solution": false,
     "task": false
    }
   },
   "outputs": [],
   "source": [
    "# LEAVE BLANK"
   ]
  },
  {
   "cell_type": "code",
   "execution_count": 70,
   "id": "optional-giant",
   "metadata": {
    "deletable": false,
    "editable": false,
    "nbgrader": {
     "cell_type": "code",
     "checksum": "4db798c3afdf6e0c83cb69ba42257910",
     "grade": true,
     "grade_id": "b-2",
     "locked": true,
     "points": 1,
     "schema_version": 3,
     "solution": false,
     "task": false
    }
   },
   "outputs": [],
   "source": [
    "# LEAVE BLANK"
   ]
  },
  {
   "cell_type": "code",
   "execution_count": 71,
   "id": "opposite-static",
   "metadata": {
    "deletable": false,
    "editable": false,
    "nbgrader": {
     "cell_type": "code",
     "checksum": "d2a9ef54847b76ff7c226d83a9ec804e",
     "grade": true,
     "grade_id": "b-4",
     "locked": true,
     "points": 4,
     "schema_version": 3,
     "solution": false,
     "task": false
    }
   },
   "outputs": [],
   "source": [
    "# LEAVE BLANK"
   ]
  },
  {
   "cell_type": "code",
   "execution_count": 72,
   "id": "disabled-equilibrium",
   "metadata": {
    "deletable": false,
    "editable": false,
    "nbgrader": {
     "cell_type": "code",
     "checksum": "031b0e1be5874ace1d60c61726efc320",
     "grade": true,
     "grade_id": "b-5",
     "locked": true,
     "points": 4,
     "schema_version": 3,
     "solution": false,
     "task": false
    }
   },
   "outputs": [],
   "source": [
    "# LEAVE BLANK"
   ]
  }
 ],
 "metadata": {
  "kernelspec": {
   "display_name": "Python 3",
   "language": "python",
   "name": "python3"
  },
  "language_info": {
   "codemirror_mode": {
    "name": "ipython",
    "version": 3
   },
   "file_extension": ".py",
   "mimetype": "text/x-python",
   "name": "python",
   "nbconvert_exporter": "python",
   "pygments_lexer": "ipython3",
   "version": "3.7.4"
  }
 },
 "nbformat": 4,
 "nbformat_minor": 5
}
